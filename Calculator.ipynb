{
  "metadata": {
    "kernelspec": {
      "language": "python",
      "display_name": "Python 3",
      "name": "python3"
    },
    "language_info": {
      "name": "python",
      "version": "3.7.10",
      "mimetype": "text/x-python",
      "codemirror_mode": {
        "name": "ipython",
        "version": 3
      },
      "pygments_lexer": "ipython3",
      "nbconvert_exporter": "python",
      "file_extension": ".py"
    },
    "colab": {
      "provenance": []
    }
  },
  "nbformat_minor": 0,
  "nbformat": 4,
  "cells": [
    {
      "cell_type": "markdown",
      "source": [
        "## Handwritten Equation Solver\n",
        "Implementing a basic algorithm to create a calculator model, that can evaluate an expression in\n",
        "a given image.\n"
      ],
      "metadata": {
        "id": "YevGmEpBoQk9"
      }
    },
    {
      "cell_type": "code",
      "source": [
        "!pip install imutils"
      ],
      "metadata": {
        "id": "p6Sq-CmyoGC6"
      },
      "execution_count": null,
      "outputs": []
    },
    {
      "cell_type": "code",
      "source": [
        "# importing libraries used for the model\n",
        "import numpy as np\n",
        "import pandas as pd\n",
        "import cv2\n",
        "import tensorflow as tf\n",
        "import matplotlib.pyplot as plt\n",
        "from imutils.contours import sort_contours\n",
        "import imutils"
      ],
      "metadata": {
        "execution": {
          "iopub.status.busy": "2021-06-29T11:06:27.011024Z",
          "iopub.execute_input": "2021-06-29T11:06:27.011410Z",
          "iopub.status.idle": "2021-06-29T11:06:40.543353Z",
          "shell.execute_reply.started": "2021-06-29T11:06:27.011333Z",
          "shell.execute_reply": "2021-06-29T11:06:40.542369Z"
        },
        "trusted": true,
        "id": "Vg2njoLRn9gG"
      },
      "execution_count": 2,
      "outputs": []
    },
    {
      "cell_type": "code",
      "source": [
        "# using keras for building the architecture of convolutional neural net\n",
        "from keras.models import Sequential\n",
        "from keras.layers import Conv2D\n",
        "from keras.layers import MaxPooling2D\n",
        "from keras.layers import Dense\n",
        "from keras.layers import Flatten\n",
        "from keras.optimizers import SGD\n",
        "from keras.preprocessing.image import ImageDataGenerator\n",
        "import os"
      ],
      "metadata": {
        "execution": {
          "iopub.status.busy": "2021-06-29T11:06:40.544842Z",
          "iopub.execute_input": "2021-06-29T11:06:40.545156Z",
          "iopub.status.idle": "2021-06-29T11:06:40.594904Z",
          "shell.execute_reply.started": "2021-06-29T11:06:40.545121Z",
          "shell.execute_reply": "2021-06-29T11:06:40.594232Z"
        },
        "trusted": true,
        "id": "mjeLiwg3n9gM"
      },
      "execution_count": null,
      "outputs": []
    },
    {
      "cell_type": "code",
      "source": [
        "# loading training and validation data\n",
        "train_datagen = ImageDataGenerator(\n",
        "    rescale = 1./255,\n",
        "    shear_range = 0.2,\n",
        "    zoom_range = 0.2,\n",
        "    validation_split = 0.25\n",
        ")\n",
        "\n",
        "data_path='../input/calculator/All data (Compressed)'\n",
        "train_set = train_datagen.flow_from_directory(\n",
        "    data_path,\n",
        "    target_size = (40, 40),\n",
        "    color_mode = 'grayscale',\n",
        "    batch_size = 32,\n",
        "    class_mode = 'categorical',\n",
        "    shuffle = True,\n",
        "    subset='training',\n",
        "    seed = 123\n",
        ")\n",
        "valid_set = train_datagen.flow_from_directory(\n",
        "    data_path,\n",
        "    target_size = (40, 40),\n",
        "    color_mode = 'grayscale',\n",
        "    batch_size = 32,\n",
        "    class_mode = 'categorical',\n",
        "    shuffle = True,\n",
        "    subset='validation',\n",
        "    seed = 123\n",
        ")"
      ],
      "metadata": {
        "execution": {
          "iopub.status.busy": "2021-06-29T11:06:45.617075Z",
          "iopub.execute_input": "2021-06-29T11:06:45.617403Z",
          "iopub.status.idle": "2021-06-29T11:15:09.625345Z",
          "shell.execute_reply.started": "2021-06-29T11:06:45.617373Z",
          "shell.execute_reply": "2021-06-29T11:15:09.624485Z"
        },
        "trusted": true,
        "id": "bKEwRG6hn9gN",
        "outputId": "aa9de0f1-f553-4312-f9da-ac2de9e71a95"
      },
      "execution_count": null,
      "outputs": [
        {
          "name": "stdout",
          "text": "Found 250428 images belonging to 16 classes.\nFound 83467 images belonging to 16 classes.\n",
          "output_type": "stream"
        }
      ]
    },
    {
      "cell_type": "code",
      "source": [
        "# model architecture\n",
        "model = Sequential()\n",
        "model.add(Conv2D(32, (3, 3), activation='relu', input_shape=(40, 40, 1)))\n",
        "model.add(MaxPooling2D((2, 2)))\n",
        "model.add(Conv2D(64, (3, 3), activation='relu'))\n",
        "model.add(MaxPooling2D((2, 2)))\n",
        "model.add(Flatten())\n",
        "model.add(Dense(128, activation='relu'))\n",
        "model.add(Dense(16, activation='softmax'))\n",
        "adam = tf.keras.optimizers.Adam(lr = 5e-4)\n",
        "model.compile(optimizer=adam, loss='categorical_crossentropy', metrics=['accuracy'])\n"
      ],
      "metadata": {
        "execution": {
          "iopub.status.busy": "2021-06-29T11:15:09.629408Z",
          "iopub.execute_input": "2021-06-29T11:15:09.631393Z",
          "iopub.status.idle": "2021-06-29T11:15:11.647979Z",
          "shell.execute_reply.started": "2021-06-29T11:15:09.631353Z",
          "shell.execute_reply": "2021-06-29T11:15:11.647193Z"
        },
        "trusted": true,
        "id": "3tkfPzGhn9gO"
      },
      "execution_count": null,
      "outputs": []
    },
    {
      "cell_type": "code",
      "source": [
        "# calculate loss and accuracy on both training and validation set\n",
        "model.fit(train_set,validation_data=valid_set,epochs=2, verbose=1)"
      ],
      "metadata": {
        "execution": {
          "iopub.status.busy": "2021-06-29T13:03:31.592480Z",
          "iopub.execute_input": "2021-06-29T13:03:31.592815Z",
          "iopub.status.idle": "2021-06-29T13:24:10.038952Z",
          "shell.execute_reply.started": "2021-06-29T13:03:31.592783Z",
          "shell.execute_reply": "2021-06-29T13:24:10.038155Z"
        },
        "trusted": true,
        "id": "Spjmn1uZn9gO",
        "outputId": "5c28b0c4-4ddc-4aea-9cb1-e385f3d92507"
      },
      "execution_count": null,
      "outputs": [
        {
          "name": "stdout",
          "text": "Epoch 1/2\n7826/7826 [==============================] - 619s 79ms/step - loss: 0.1135 - accuracy: 0.9612 - val_loss: 0.2142 - val_accuracy: 0.9367\nEpoch 2/2\n7826/7826 [==============================] - 619s 79ms/step - loss: 0.1001 - accuracy: 0.9658 - val_loss: 0.2312 - val_accuracy: 0.9356\n",
          "output_type": "stream"
        },
        {
          "execution_count": 45,
          "output_type": "execute_result",
          "data": {
            "text/plain": "<tensorflow.python.keras.callbacks.History at 0x7f61804acb90>"
          },
          "metadata": {}
        }
      ]
    },
    {
      "cell_type": "code",
      "source": [
        "def prediction(img):\n",
        "    plt.imshow(img, cmap = 'gray')\n",
        "    img = cv2.resize(img,(40, 40))\n",
        "    norm_image = cv2.normalize(img, None, alpha = 0, beta = 1, norm_type = cv2.NORM_MINMAX, dtype = cv2.CV_32F)\n",
        "    norm_image = norm_image.reshape((norm_image.shape[0], norm_image.shape[1], 1))\n",
        "    case = np.asarray([norm_image])\n",
        "    pred = model.predict_classes([case])\n",
        "    print(pred)\n",
        "\n",
        "    return ([i for i in train_set.class_indices if train_set.class_indices[i]==(pred[0])][0],pred)"
      ],
      "metadata": {
        "execution": {
          "iopub.status.busy": "2021-06-29T13:26:02.938152Z",
          "iopub.execute_input": "2021-06-29T13:26:02.938525Z",
          "iopub.status.idle": "2021-06-29T13:26:02.945266Z",
          "shell.execute_reply.started": "2021-06-29T13:26:02.938495Z",
          "shell.execute_reply": "2021-06-29T13:26:02.944199Z"
        },
        "trusted": true,
        "id": "YpT7dveDn9gP"
      },
      "execution_count": null,
      "outputs": []
    },
    {
      "cell_type": "code",
      "source": [
        "label_map = (train_set.class_indices)\n",
        "label_map"
      ],
      "metadata": {
        "execution": {
          "iopub.status.busy": "2021-06-29T13:26:05.808455Z",
          "iopub.execute_input": "2021-06-29T13:26:05.808780Z",
          "iopub.status.idle": "2021-06-29T13:26:05.814279Z",
          "shell.execute_reply.started": "2021-06-29T13:26:05.808748Z",
          "shell.execute_reply": "2021-06-29T13:26:05.813440Z"
        },
        "trusted": true,
        "id": "kaO0LMtWn9gP",
        "outputId": "f3b51081-e882-4dcc-8574-0e6f5f23d35e"
      },
      "execution_count": null,
      "outputs": [
        {
          "execution_count": 47,
          "output_type": "execute_result",
          "data": {
            "text/plain": "{'%': 0,\n '*': 1,\n '+': 2,\n '-': 3,\n '0': 4,\n '1': 5,\n '2': 6,\n '3': 7,\n '4': 8,\n '5': 9,\n '6': 10,\n '7': 11,\n '8': 12,\n '9': 13,\n '[': 14,\n ']': 15}"
          },
          "metadata": {}
        }
      ]
    },
    {
      "cell_type": "code",
      "source": [
        "# read the test image\n",
        "image = cv2.imread('../input/test-data/test.png')\n",
        "gray = cv2.cvtColor(image, cv2.COLOR_BGR2GRAY)\n",
        "blurred = cv2.GaussianBlur(gray, (5, 5), 0)\n",
        "edged = cv2.Canny(blurred, 30, 150)\n",
        "# contour plotting to recognise a digit or operator in an image\n",
        "cnts = cv2.findContours(edged.copy(), cv2.RETR_EXTERNAL,cv2.CHAIN_APPROX_SIMPLE)\n",
        "cnts = imutils.grab_contours(cnts)\n",
        "cnts = sort_contours(cnts, method=\"left-to-right\")[0]\n",
        "# draw a rectangular box around the recognised digit and opertor in the image\n",
        "chars=[]\n",
        "for c in cnts:\n",
        "    (x, y, w, h) = cv2.boundingRect(c)\n",
        "    if w*h>1200:\n",
        "        roi = gray[y:y + h, x:x + w]\n",
        "        chars.append(prediction(roi))\n",
        "        cv2.rectangle(image, (x, y), (x + w, y + h), (0, 255, 0), 2)"
      ],
      "metadata": {
        "execution": {
          "iopub.status.busy": "2021-06-29T13:29:34.089641Z",
          "iopub.execute_input": "2021-06-29T13:29:34.090008Z",
          "iopub.status.idle": "2021-06-29T13:29:34.615593Z",
          "shell.execute_reply.started": "2021-06-29T13:29:34.089975Z",
          "shell.execute_reply": "2021-06-29T13:29:34.613283Z"
        },
        "trusted": true,
        "id": "XYz8rRi7n9gQ",
        "outputId": "a2c75171-8bb5-4e5c-fb12-2229717b6a57"
      },
      "execution_count": null,
      "outputs": [
        {
          "name": "stdout",
          "text": "[11]\n[11]\n[2]\n[7]\n[6]\n",
          "output_type": "stream"
        },
        {
          "output_type": "display_data",
          "data": {
            "text/plain": "<Figure size 432x288 with 1 Axes>",
            "image/png": "[encoded data removed]"
          },
          "metadata": {
            "needs_background": "light"
          }
        }
      ]
    },
    {
      "cell_type": "code",
      "source": [
        "plt.figure(figsize=(10,10))\n",
        "plt.imshow(image)"
      ],
      "metadata": {
        "execution": {
          "iopub.status.busy": "2021-06-29T13:29:39.818453Z",
          "iopub.execute_input": "2021-06-29T13:29:39.818824Z",
          "iopub.status.idle": "2021-06-29T13:29:40.050820Z",
          "shell.execute_reply.started": "2021-06-29T13:29:39.818789Z",
          "shell.execute_reply": "2021-06-29T13:29:40.049905Z"
        },
        "trusted": true,
        "id": "K9EOXBKVn9gR",
        "outputId": "4262f344-4d3c-4c99-d38c-048136779bda"
      },
      "execution_count": null,
      "outputs": [
        {
          "execution_count": 52,
          "output_type": "execute_result",
          "data": {
            "text/plain": "<matplotlib.image.AxesImage at 0x7f6180355b10>"
          },
          "metadata": {}
        },
        {
          "output_type": "display_data",
          "data": {
            "text/plain": "<Figure size 720x720 with 1 Axes>",
            "image/png": "[encoded data removed]"
          },
          "metadata": {
            "needs_background": "light"
          }
        }
      ]
    },
    {
      "cell_type": "code",
      "source": [
        "# chars is list of predicted digit/operator and their corresponding index\n",
        "chars"
      ],
      "metadata": {
        "execution": {
          "iopub.status.busy": "2021-06-29T13:29:44.928260Z",
          "iopub.execute_input": "2021-06-29T13:29:44.928575Z",
          "iopub.status.idle": "2021-06-29T13:29:44.937363Z",
          "shell.execute_reply.started": "2021-06-29T13:29:44.928545Z",
          "shell.execute_reply": "2021-06-29T13:29:44.936556Z"
        },
        "trusted": true,
        "id": "MkpfreDdn9gS",
        "outputId": "c55101af-79d9-41ec-8f8b-193e9fca456b"
      },
      "execution_count": null,
      "outputs": [
        {
          "execution_count": 53,
          "output_type": "execute_result",
          "data": {
            "text/plain": "[('7', array([11])),\n ('7', array([11])),\n ('+', array([2])),\n ('3', array([7])),\n ('2', array([6]))]"
          },
          "metadata": {}
        }
      ]
    },
    {
      "cell_type": "code",
      "source": [
        "labels=[i for i in train_set.class_indices]\n",
        "print(labels)"
      ],
      "metadata": {
        "execution": {
          "iopub.status.busy": "2021-06-29T13:29:49.808354Z",
          "iopub.execute_input": "2021-06-29T13:29:49.808666Z",
          "iopub.status.idle": "2021-06-29T13:29:49.813268Z",
          "shell.execute_reply.started": "2021-06-29T13:29:49.808637Z",
          "shell.execute_reply": "2021-06-29T13:29:49.812453Z"
        },
        "trusted": true,
        "id": "PICeggwRn9gS",
        "outputId": "e9ea2dba-610b-4ba6-867a-36d07d57b09b"
      },
      "execution_count": null,
      "outputs": [
        {
          "name": "stdout",
          "text": "['%', '*', '+', '-', '0', '1', '2', '3', '4', '5', '6', '7', '8', '9', '[', ']']\n",
          "output_type": "stream"
        }
      ]
    },
    {
      "cell_type": "code",
      "source": [
        "# a is a list of all the digits and operators that are involved in the expression given, as test image\n",
        "# b is a list which consist of values of length, of a, at which an operator is found\n",
        "a = []\n",
        "b = []\n",
        "for i in ((chars)):\n",
        "    if len(a)==0 and i[0][0] in labels[3:]:\n",
        "        a.append(i[0][0])\n",
        "    elif len(a)>0 and i[0][0] in labels[4:14]:\n",
        "        a.append(i[0][0])\n",
        "    elif len(a)>0 and i[0][0] in labels[:4]:\n",
        "        a.append(i[0][0])\n",
        "        b.append(len(a))\n",
        "    else:\n",
        "        pass"
      ],
      "metadata": {
        "execution": {
          "iopub.status.busy": "2021-06-29T13:29:54.247459Z",
          "iopub.execute_input": "2021-06-29T13:29:54.247808Z",
          "iopub.status.idle": "2021-06-29T13:29:54.255255Z",
          "shell.execute_reply.started": "2021-06-29T13:29:54.247758Z",
          "shell.execute_reply": "2021-06-29T13:29:54.254295Z"
        },
        "trusted": true,
        "id": "UHt9x-eyn9gS"
      },
      "execution_count": null,
      "outputs": []
    },
    {
      "cell_type": "code",
      "source": [
        "# implement the calculator after image recognition\n",
        "x = 0\n",
        "for i in b:\n",
        "    if a[i-1]=='+':\n",
        "        if ((b.index(i))==0 and len(b)==1):\n",
        "            x =  (int(''.join(a[:i-1]))) + (int(''.join(a[i:])))\n",
        "        elif ((b.index(i)) == 0):\n",
        "            x = (int(''.join(a[:i-1]))) + (int(''.join(a[i : (b[1]-1)])))\n",
        "        elif (((b.index(i)) > 0) & (b.index(i)) != (len(b)-1)):\n",
        "            x = x + (int(''.join(a[i : (b[b.index(i)+1]-1)])))\n",
        "        elif (b.index(i) == (len(b)-1)):\n",
        "            x = x + (int(''.join(a[i : len(a)])))\n",
        "    elif a[i-1]=='%':\n",
        "        if ((b.index(i))==0 and len(b)==1):\n",
        "            x =  (int(''.join(a[:i-1]))) / (int(''.join(a[i:])))\n",
        "        elif ((b.index(i)) == 0):\n",
        "            x = (int(''.join(a[:i-1]))) / (int(''.join(a[i : (b[1]-1)])))\n",
        "        elif (((b.index(i)) > 0) & (b.index(i)) != (len(b)-1)):\n",
        "            x = x  / (int(''.join(a[i : (b[b.index(i)+1]-1)])))\n",
        "        elif (b.index(i) == (len(b)-1)):\n",
        "            x = x  / (int(''.join(a[i : len(a)])))\n",
        "    elif a[i-1]=='*':\n",
        "        if ((b.index(i))==0 and len(b)==1):\n",
        "            x =  (int(''.join(a[:i-1]))) * (int(''.join(a[i:])))\n",
        "        elif ((b.index(i)) == 0):\n",
        "            x = (int(''.join(a[:i-1]))) * (int(''.join(a[i : (b[1]-1)])))\n",
        "        elif (((b.index(i)) > 0) & (b.index(i)) != (len(b)-1)):\n",
        "            x = x  * (int(''.join(a[i : (b[b.index(i)+1]-1)])))\n",
        "        elif (b.index(i) == (len(b)-1)):\n",
        "            x = x  * (int(''.join(a[i :])))\n",
        "    else:\n",
        "        if ((b.index(i))==0 and len(b)==1):\n",
        "            x =  (int(''.join(a[:i-1]))) - (int(''.join(a[i:])))\n",
        "        elif ((b.index(i)) == 0):\n",
        "            x = (int(''.join(a[:i-1]))) - (int(''.join(a[i : (b[1]-1)])))\n",
        "        elif (((b.index(i)) > 0) & (b.index(i)) != (len(b)-1)):\n",
        "            x = x  - (int(''.join(a[i : (b[b.index(i)+1]-1)])))\n",
        "        elif (b.index(i) == (len(b)-1)):\n",
        "            x = x  - (int(''.join(a[i : len(a)])))\n",
        "print('The result of given operation is - ')\n",
        "print(x)"
      ],
      "metadata": {
        "execution": {
          "iopub.status.busy": "2021-06-29T13:29:57.931326Z",
          "iopub.execute_input": "2021-06-29T13:29:57.931648Z",
          "iopub.status.idle": "2021-06-29T13:29:57.952895Z",
          "shell.execute_reply.started": "2021-06-29T13:29:57.931619Z",
          "shell.execute_reply": "2021-06-29T13:29:57.952071Z"
        },
        "trusted": true,
        "id": "aCe-90Den9gT",
        "outputId": "b0c64d78-3cba-426d-9603-ec928f6f3bc1"
      },
      "execution_count": null,
      "outputs": [
        {
          "name": "stdout",
          "text": "The result of given operation is - \n109\n",
          "output_type": "stream"
        }
      ]
    }
  ]
}